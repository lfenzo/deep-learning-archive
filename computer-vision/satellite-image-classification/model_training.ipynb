{
 "cells": [
  {
   "cell_type": "code",
   "execution_count": 1,
   "id": "11b9620a-20f9-45b1-a483-29f9fbd72ff7",
   "metadata": {
    "execution": {
     "iopub.execute_input": "2024-01-28T22:14:20.636490Z",
     "iopub.status.busy": "2024-01-28T22:14:20.636061Z",
     "iopub.status.idle": "2024-01-28T22:14:22.691122Z",
     "shell.execute_reply": "2024-01-28T22:14:22.690359Z",
     "shell.execute_reply.started": "2024-01-28T22:14:20.636445Z"
    }
   },
   "outputs": [],
   "source": [
    "import os\n",
    "\n",
    "import torch\n",
    "from torch.utils.data import DataLoader\n",
    "from torchvision.datasets import ImageFolder\n",
    "from torchvision import transforms\n",
    "\n",
    "import src.dataset.utils as dutils\n",
    "import src.modelling.utils as mutils\n",
    "from src.modelling.resnet_model import ResNet\n",
    "\n",
    "%load_ext autoreload\n",
    "%autoreload 2"
   ]
  },
  {
   "cell_type": "code",
   "execution_count": 2,
   "id": "17254978-47dd-4953-a264-c33948f94674",
   "metadata": {
    "execution": {
     "iopub.execute_input": "2024-01-28T22:14:22.692281Z",
     "iopub.status.busy": "2024-01-28T22:14:22.691980Z",
     "iopub.status.idle": "2024-01-28T22:14:22.711429Z",
     "shell.execute_reply": "2024-01-28T22:14:22.710667Z",
     "shell.execute_reply.started": "2024-01-28T22:14:22.692256Z"
    }
   },
   "outputs": [],
   "source": [
    "DATA_DIR = \"./data/\"\n",
    "BATCH_SIZE = 8\n",
    "EPOCHS = 8\n",
    "MAX_LR = 0.01\n",
    "GRAD_CLIP = 0.1\n",
    "WEIGHT_DECAY = 1e-4"
   ]
  },
  {
   "cell_type": "code",
   "execution_count": 3,
   "id": "5284c643-c3ab-42c8-975f-f1b654aceef4",
   "metadata": {
    "execution": {
     "iopub.execute_input": "2024-01-28T22:14:22.713300Z",
     "iopub.status.busy": "2024-01-28T22:14:22.712718Z",
     "iopub.status.idle": "2024-01-28T22:14:22.757628Z",
     "shell.execute_reply": "2024-01-28T22:14:22.757115Z",
     "shell.execute_reply.started": "2024-01-28T22:14:22.713261Z"
    }
   },
   "outputs": [],
   "source": [
    "image_transformer = dutils.get_default_image_transformer()\n",
    "\n",
    "train_loader = DataLoader(\n",
    "    dataset=ImageFolder(os.path.join(DATA_DIR, \"train\"), transform=image_transformer),\n",
    "    batch_size=BATCH_SIZE,\n",
    "    shuffle=True,\n",
    "    pin_memory=True,\n",
    "    num_workers=4,\n",
    ")\n",
    "\n",
    "valid_loader = DataLoader(\n",
    "    dataset=ImageFolder(os.path.join(DATA_DIR, \"valid\"), transform=image_transformer),\n",
    "    batch_size=BATCH_SIZE,\n",
    "    shuffle=True,\n",
    "    pin_memory=True,\n",
    "    num_workers=4,\n",
    ")\n",
    "\n",
    "test_loader = DataLoader(\n",
    "    dataset=ImageFolder(os.path.join(DATA_DIR, \"test\"), transform=image_transformer),\n",
    "    batch_size=BATCH_SIZE,\n",
    "    pin_memory=True,\n",
    "    num_workers=4,\n",
    ")"
   ]
  },
  {
   "cell_type": "code",
   "execution_count": 4,
   "id": "f9df3433-dc36-4671-a9b7-6e0c6dfe3a77",
   "metadata": {
    "execution": {
     "iopub.execute_input": "2024-01-28T22:14:22.759620Z",
     "iopub.status.busy": "2024-01-28T22:14:22.759323Z",
     "iopub.status.idle": "2024-01-28T22:21:43.563858Z",
     "shell.execute_reply": "2024-01-28T22:21:43.562824Z",
     "shell.execute_reply.started": "2024-01-28T22:14:22.759599Z"
    }
   },
   "outputs": [
    {
     "name": "stderr",
     "output_type": "stream",
     "text": [
      "100%|██████████████████████████████████████████████████████████████████████████████████████████████████████████████████████| 493/493 [00:52<00:00,  9.35it/s]\n"
     ]
    },
    {
     "name": "stdout",
     "output_type": "stream",
     "text": [
      "Epoch [0] | lr: 0.00166 | train loss: 0.7776 | valid loss: 0.9027 | accuracy: 0.7097\n"
     ]
    },
    {
     "name": "stderr",
     "output_type": "stream",
     "text": [
      "100%|██████████████████████████████████████████████████████████████████████████████████████████████████████████████████████| 493/493 [00:50<00:00,  9.73it/s]\n"
     ]
    },
    {
     "name": "stdout",
     "output_type": "stream",
     "text": [
      "Epoch [1] | lr: 0.00691 | train loss: 0.9644 | valid loss: 0.5175 | accuracy: 0.7014\n"
     ]
    },
    {
     "name": "stderr",
     "output_type": "stream",
     "text": [
      "100%|██████████████████████████████████████████████████████████████████████████████████████████████████████████████████████| 493/493 [00:50<00:00,  9.71it/s]\n"
     ]
    },
    {
     "name": "stdout",
     "output_type": "stream",
     "text": [
      "Epoch [2] | lr: 0.00986 | train loss: 0.7972 | valid loss: 0.8276 | accuracy: 0.7741\n"
     ]
    },
    {
     "name": "stderr",
     "output_type": "stream",
     "text": [
      "100%|██████████████████████████████████████████████████████████████████████████████████████████████████████████████████████| 493/493 [00:51<00:00,  9.65it/s]\n"
     ]
    },
    {
     "name": "stdout",
     "output_type": "stream",
     "text": [
      "Epoch [3] | lr: 0.00902 | train loss: 0.6378 | valid loss: 0.4253 | accuracy: 0.8467\n"
     ]
    },
    {
     "name": "stderr",
     "output_type": "stream",
     "text": [
      "100%|██████████████████████████████████████████████████████████████████████████████████████████████████████████████████████| 493/493 [00:51<00:00,  9.62it/s]\n"
     ]
    },
    {
     "name": "stdout",
     "output_type": "stream",
     "text": [
      "Epoch [4] | lr: 0.00689 | train loss: 0.5819 | valid loss: 0.3490 | accuracy: 0.8476\n"
     ]
    },
    {
     "name": "stderr",
     "output_type": "stream",
     "text": [
      "100%|██████████████████████████████████████████████████████████████████████████████████████████████████████████████████████| 493/493 [00:51<00:00,  9.61it/s]\n"
     ]
    },
    {
     "name": "stdout",
     "output_type": "stream",
     "text": [
      "Epoch [5] | lr: 0.00417 | train loss: 0.5048 | valid loss: 0.3456 | accuracy: 0.8288\n"
     ]
    },
    {
     "name": "stderr",
     "output_type": "stream",
     "text": [
      "100%|██████████████████████████████████████████████████████████████████████████████████████████████████████████████████████| 493/493 [00:51<00:00,  9.59it/s]\n"
     ]
    },
    {
     "name": "stdout",
     "output_type": "stream",
     "text": [
      "Epoch [6] | lr: 0.00171 | train loss: 0.4693 | valid loss: 0.2891 | accuracy: 0.8856\n"
     ]
    },
    {
     "name": "stderr",
     "output_type": "stream",
     "text": [
      "100%|██████████████████████████████████████████████████████████████████████████████████████████████████████████████████████| 493/493 [00:51<00:00,  9.59it/s]\n"
     ]
    },
    {
     "name": "stdout",
     "output_type": "stream",
     "text": [
      "Epoch [7] | lr: 0.00026 | train loss: 0.4075 | valid loss: 0.2805 | accuracy: 0.8908\n"
     ]
    },
    {
     "data": {
      "text/plain": [
       "[{'valid_accuracy': 0.7096697688102722,\n",
       "  'valid_loss': 0.9027026295661926,\n",
       "  'train_loss': 0.7775659561157227,\n",
       "  'lr': 0.00165635219309479},\n",
       " {'valid_accuracy': 0.7014150619506836,\n",
       "  'valid_loss': 0.5174751281738281,\n",
       "  'train_loss': 0.9643641114234924,\n",
       "  'lr': 0.006909675430506468},\n",
       " {'valid_accuracy': 0.774056613445282,\n",
       "  'valid_loss': 0.8276404738426208,\n",
       "  'train_loss': 0.7971929311752319,\n",
       "  'lr': 0.0098573574796319},\n",
       " {'valid_accuracy': 0.8466981053352356,\n",
       "  'valid_loss': 0.4253421127796173,\n",
       "  'train_loss': 0.63776695728302,\n",
       "  'lr': 0.009022919461131096},\n",
       " {'valid_accuracy': 0.8476414680480957,\n",
       "  'valid_loss': 0.3489702343940735,\n",
       "  'train_loss': 0.5818931460380554,\n",
       "  'lr': 0.00688584242016077},\n",
       " {'valid_accuracy': 0.828773558139801,\n",
       "  'valid_loss': 0.3456491231918335,\n",
       "  'train_loss': 0.5048028230667114,\n",
       "  'lr': 0.00417066365480423},\n",
       " {'valid_accuracy': 0.885613203048706,\n",
       "  'valid_loss': 0.28907984495162964,\n",
       "  'train_loss': 0.4693334102630615,\n",
       "  'lr': 0.0017097254749387503},\n",
       " {'valid_accuracy': 0.8908019065856934,\n",
       "  'valid_loss': 0.2805439829826355,\n",
       "  'train_loss': 0.4075145423412323,\n",
       "  'lr': 0.00025743228616192937}]"
      ]
     },
     "execution_count": 4,
     "metadata": {},
     "output_type": "execute_result"
    }
   ],
   "source": [
    "model = ResNet(in_channels=3, n_classes=4)\n",
    "optimizer = torch.optim.Adam(model.parameters(), lr=MAX_LR, weight_decay=WEIGHT_DECAY)\n",
    "\n",
    "mutils.train_model(\n",
    "    model=model, \n",
    "    epochs=EPOCHS,\n",
    "    train_loader=train_loader,\n",
    "    valid_loader=valid_loader,\n",
    "    optimizer=optimizer,\n",
    "    max_lr=MAX_LR,\n",
    "    weight_decay=WEIGHT_DECAY,\n",
    "    grad_clip=GRAD_CLIP,\n",
    ")"
   ]
  },
  {
   "cell_type": "code",
   "execution_count": 5,
   "id": "eadc70e3-ff39-4d85-aaac-e425522474d9",
   "metadata": {
    "execution": {
     "iopub.execute_input": "2024-01-28T22:21:43.565687Z",
     "iopub.status.busy": "2024-01-28T22:21:43.565320Z",
     "iopub.status.idle": "2024-01-28T22:21:43.665231Z",
     "shell.execute_reply": "2024-01-28T22:21:43.664338Z",
     "shell.execute_reply.started": "2024-01-28T22:21:43.565646Z"
    }
   },
   "outputs": [],
   "source": [
    "from datetime import datetime\n",
    "\n",
    "model_date = datetime.now().strftime(\"%Y-%m-%d-%H:%M:%S\")\n",
    "model_file = f\"resnet_{model_date}.pth\"\n",
    "\n",
    "model = model.to(torch.device(\"cpu\"))\n",
    "\n",
    "torch.save(model.state_dict(), os.path.join('models', model_file))"
   ]
  }
 ],
 "metadata": {
  "kernelspec": {
   "display_name": "Python 3 (ipykernel)",
   "language": "python",
   "name": "python3"
  },
  "language_info": {
   "codemirror_mode": {
    "name": "ipython",
    "version": 3
   },
   "file_extension": ".py",
   "mimetype": "text/x-python",
   "name": "python",
   "nbconvert_exporter": "python",
   "pygments_lexer": "ipython3",
   "version": "3.11.2"
  }
 },
 "nbformat": 4,
 "nbformat_minor": 5
}
