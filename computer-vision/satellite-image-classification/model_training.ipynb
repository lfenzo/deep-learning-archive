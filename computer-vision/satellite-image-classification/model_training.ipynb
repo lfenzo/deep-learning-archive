{
 "cells": [
  {
   "cell_type": "code",
   "execution_count": 1,
   "id": "11b9620a-20f9-45b1-a483-29f9fbd72ff7",
   "metadata": {
    "execution": {
     "iopub.execute_input": "2024-01-27T15:48:09.465399Z",
     "iopub.status.busy": "2024-01-27T15:48:09.464438Z",
     "iopub.status.idle": "2024-01-27T15:48:11.308539Z",
     "shell.execute_reply": "2024-01-27T15:48:11.307908Z",
     "shell.execute_reply.started": "2024-01-27T15:48:09.465325Z"
    }
   },
   "outputs": [],
   "source": [
    "import os\n",
    "\n",
    "import torch\n",
    "from torch.utils.data import DataLoader\n",
    "from torchvision.datasets import ImageFolder\n",
    "from torchvision import transforms\n",
    "\n",
    "import src.modelling.utils as utils\n",
    "from src.modelling.resnet_model import ResNet\n",
    "\n",
    "%load_ext autoreload\n",
    "%autoreload 2"
   ]
  },
  {
   "cell_type": "code",
   "execution_count": 2,
   "id": "17254978-47dd-4953-a264-c33948f94674",
   "metadata": {
    "execution": {
     "iopub.execute_input": "2024-01-27T15:48:11.309566Z",
     "iopub.status.busy": "2024-01-27T15:48:11.309276Z",
     "iopub.status.idle": "2024-01-27T15:48:11.328965Z",
     "shell.execute_reply": "2024-01-27T15:48:11.328299Z",
     "shell.execute_reply.started": "2024-01-27T15:48:11.309550Z"
    }
   },
   "outputs": [],
   "source": [
    "DATA_DIR = \"./data/\"\n",
    "BATCH_SIZE = 8\n",
    "EPOCHS = 5\n",
    "MAX_LR = 0.01\n",
    "GRAD_CLIP = 0.1\n",
    "WEIGHT_DECAY = 1e-4"
   ]
  },
  {
   "cell_type": "code",
   "execution_count": 3,
   "id": "5284c643-c3ab-42c8-975f-f1b654aceef4",
   "metadata": {
    "execution": {
     "iopub.execute_input": "2024-01-27T15:48:11.330317Z",
     "iopub.status.busy": "2024-01-27T15:48:11.329893Z",
     "iopub.status.idle": "2024-01-27T15:48:11.367905Z",
     "shell.execute_reply": "2024-01-27T15:48:11.367244Z",
     "shell.execute_reply.started": "2024-01-27T15:48:11.330279Z"
    }
   },
   "outputs": [],
   "source": [
    "image_transformer = transforms.Compose([\n",
    "    transforms.RandomCrop(64, padding=4, padding_mode='reflect'),\n",
    "    transforms.Resize(64),\n",
    "    transforms.RandomHorizontalFlip(),\n",
    "    transforms.ToTensor(),\n",
    "    transforms.Normalize(\n",
    "        mean=(0.4914, 0.4822, 0.4465),\n",
    "        std=(0.2023, 0.1994, 0.2010),\n",
    "        inplace=True\n",
    "    )\n",
    "])\n",
    "\n",
    "\n",
    "train_loader = DataLoader(\n",
    "    dataset=ImageFolder(os.path.join(DATA_DIR, \"train\"), transform=image_transformer),\n",
    "    batch_size=BATCH_SIZE,\n",
    "    shuffle=True,\n",
    "    pin_memory=True,\n",
    "    num_workers=4,\n",
    ")\n",
    "\n",
    "valid_loader = DataLoader(\n",
    "    dataset=ImageFolder(os.path.join(DATA_DIR, \"valid\"), transform=image_transformer),\n",
    "    batch_size=BATCH_SIZE,\n",
    "    shuffle=True,\n",
    "    pin_memory=True,\n",
    "    num_workers=4,\n",
    ")\n",
    "\n",
    "test_loader = DataLoader(\n",
    "    dataset=ImageFolder(os.path.join(DATA_DIR, \"test\"), transform=image_transformer),\n",
    "    batch_size=BATCH_SIZE,\n",
    "    pin_memory=True,\n",
    "    num_workers=4,\n",
    ")"
   ]
  },
  {
   "cell_type": "code",
   "execution_count": null,
   "id": "f907512e-844b-4d33-bc0d-6d65a1982fd4",
   "metadata": {
    "execution": {
     "iopub.execute_input": "2024-01-27T15:48:11.369385Z",
     "iopub.status.busy": "2024-01-27T15:48:11.369184Z"
    }
   },
   "outputs": [
    {
     "name": "stderr",
     "output_type": "stream",
     "text": [
      "100%|██████████████████████████████████████████████████████████████████████████████████████████████████████████████████████| 493/493 [00:52<00:00,  9.40it/s]\n"
     ]
    },
    {
     "name": "stdout",
     "output_type": "stream",
     "text": [
      "Epoch [0] | lr: 0.00040 | train loss: 1.1180 | valid loss: 0.5702 | accuracy: 0.7328\n"
     ]
    },
    {
     "name": "stderr",
     "output_type": "stream",
     "text": [
      "  6%|██████▊                                                                                                                | 28/493 [00:02<00:47,  9.75it/s]"
     ]
    }
   ],
   "source": [
    "model = ResNet(in_channels=3, n_classes=4)\n",
    "\n",
    "optimizer = torch.optim.Adam(model.parameters(), lr=MAX_LR, weight_decay=WEIGHT_DECAY)\n",
    "\n",
    "torch.cuda.empty_cache()\n",
    "utils.train_model(\n",
    "    model=model, \n",
    "    epochs=2,\n",
    "    train_loader=train_loader,\n",
    "    valid_loader=valid_loader,\n",
    "    optimizer=optimizer,\n",
    "    max_lr=MAX_LR,\n",
    "    weight_decay=WEIGHT_DECAY,\n",
    "    grad_clip=GRAD_CLIP,\n",
    ")"
   ]
  },
  {
   "cell_type": "code",
   "execution_count": null,
   "id": "eadc70e3-ff39-4d85-aaac-e425522474d9",
   "metadata": {},
   "outputs": [],
   "source": [
    "model = model.to(torch.device(\"cpu\"))\n",
    "torch.cuda.empty_cache()"
   ]
  }
 ],
 "metadata": {
  "kernelspec": {
   "display_name": "Python 3 (ipykernel)",
   "language": "python",
   "name": "python3"
  },
  "language_info": {
   "codemirror_mode": {
    "name": "ipython",
    "version": 3
   },
   "file_extension": ".py",
   "mimetype": "text/x-python",
   "name": "python",
   "nbconvert_exporter": "python",
   "pygments_lexer": "ipython3",
   "version": "3.11.2"
  }
 },
 "nbformat": 4,
 "nbformat_minor": 5
}
