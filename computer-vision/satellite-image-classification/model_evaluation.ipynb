{
 "cells": [
  {
   "cell_type": "code",
   "execution_count": 22,
   "id": "4d5b7034-94aa-4f1a-a3ca-f30bd4eb1f09",
   "metadata": {
    "execution": {
     "iopub.execute_input": "2024-01-28T21:54:26.498481Z",
     "iopub.status.busy": "2024-01-28T21:54:26.498018Z",
     "iopub.status.idle": "2024-01-28T21:54:26.528638Z",
     "shell.execute_reply": "2024-01-28T21:54:26.527883Z",
     "shell.execute_reply.started": "2024-01-28T21:54:26.498445Z"
    }
   },
   "outputs": [
    {
     "name": "stdout",
     "output_type": "stream",
     "text": [
      "The autoreload extension is already loaded. To reload it, use:\n",
      "  %reload_ext autoreload\n"
     ]
    }
   ],
   "source": [
    "import os\n",
    "\n",
    "import torch\n",
    "from torch.utils.data import DataLoader\n",
    "from torchvision.datasets import ImageFolder\n",
    "\n",
    "import src.dataset.utils as dutils\n",
    "import src.modelling.utils as mutils\n",
    "from src.modelling.resnet_model import ResNet\n",
    "\n",
    "%load_ext autoreload\n",
    "%autoreload 2"
   ]
  },
  {
   "cell_type": "code",
   "execution_count": 27,
   "id": "520dc148-c1a6-442f-9e9d-6ee914ddfe01",
   "metadata": {
    "execution": {
     "iopub.execute_input": "2024-01-28T21:55:33.376144Z",
     "iopub.status.busy": "2024-01-28T21:55:33.374492Z",
     "iopub.status.idle": "2024-01-28T21:55:33.417537Z",
     "shell.execute_reply": "2024-01-28T21:55:33.416633Z",
     "shell.execute_reply.started": "2024-01-28T21:55:33.375984Z"
    }
   },
   "outputs": [
    {
     "name": "stdout",
     "output_type": "stream",
     "text": [
      "Avaliable models:\n",
      "\n",
      "resnet_2024-01-28-17:57:20.pth\n"
     ]
    }
   ],
   "source": [
    "MODEL_DIR = './models/'\n",
    "DATA_DIR = './data/'\n",
    "\n",
    "print(\"Avaliable models:\\n\")\n",
    "for file in os.listdir(MODEL_DIR):\n",
    "    print(file)"
   ]
  },
  {
   "cell_type": "code",
   "execution_count": 63,
   "id": "bbd52add-1287-4939-a6d9-a50791de8082",
   "metadata": {
    "execution": {
     "iopub.execute_input": "2024-01-28T22:38:44.233397Z",
     "iopub.status.busy": "2024-01-28T22:38:44.232145Z",
     "iopub.status.idle": "2024-01-28T22:38:48.826360Z",
     "shell.execute_reply": "2024-01-28T22:38:48.825605Z",
     "shell.execute_reply.started": "2024-01-28T22:38:44.233288Z"
    }
   },
   "outputs": [
    {
     "name": "stderr",
     "output_type": "stream",
     "text": [
      "100%|██████████████████████████████████████████████████████████████████████████████████████████████████████████████████████| 169/169 [00:04<00:00, 38.09it/s]"
     ]
    },
    {
     "name": "stdout",
     "output_type": "stream",
     "text": [
      "Accuracy for test set: 0.8828402366863906\n"
     ]
    },
    {
     "name": "stderr",
     "output_type": "stream",
     "text": [
      "\n"
     ]
    }
   ],
   "source": [
    "model_filepath = os.path.join(MODEL_DIR, 'resnet_2024-01-28-17:57:20.pth')\n",
    "\n",
    "model = ResNet(in_channels=3, n_classes=4)\n",
    "model.load_state_dict(torch.load(model_filepath))\n",
    "\n",
    "image_transformer = dutils.get_default_image_transformer()\n",
    "\n",
    "test_loader = DataLoader(\n",
    "    dataset=ImageFolder(os.path.join(DATA_DIR, \"test\"), transform=image_transformer),\n",
    "    batch_size=5\n",
    ")\n",
    "\n",
    "predicted, expected = mutils.evaluate_model(model=model, loader=test_loader)"
   ]
  }
 ],
 "metadata": {
  "kernelspec": {
   "display_name": "Python 3 (ipykernel)",
   "language": "python",
   "name": "python3"
  },
  "language_info": {
   "codemirror_mode": {
    "name": "ipython",
    "version": 3
   },
   "file_extension": ".py",
   "mimetype": "text/x-python",
   "name": "python",
   "nbconvert_exporter": "python",
   "pygments_lexer": "ipython3",
   "version": "3.11.2"
  }
 },
 "nbformat": 4,
 "nbformat_minor": 5
}
